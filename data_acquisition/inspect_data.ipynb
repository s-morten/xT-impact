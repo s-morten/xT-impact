{
 "cells": [
  {
   "cell_type": "code",
   "execution_count": null,
   "metadata": {},
   "outputs": [],
   "source": [
    "import sys\n",
    "\n",
    "sys.path.append(\"../\")\n",
    "from proto_files.player import Player\n",
    "\n",
    "import numpy as np\n",
    "import pandas as pd\n",
    "import matplotlib.pyplot as plt"
   ]
  },
  {
   "cell_type": "code",
   "execution_count": null,
   "metadata": {},
   "outputs": [],
   "source": [
    "# game_date = \"2019-08-13\"\n",
    "# proto_player = Player().parse(open(f\"./../data/{str(115509)}.pb\", \"rb\").read())\n",
    "\n",
    "# df = pd.DataFrame(proto_player.starter.x_i)\n",
    "# df.sort_values('game_date', inplace=True)\n",
    "# print(df.shape)\n",
    "# display(df.tail())\n",
    "# df = df[df['game_date'] < game_date]\n",
    "# print(df.shape)\n",
    "# display(df.tail())\n",
    "# display(df.iloc[-5:])"
   ]
  },
  {
   "cell_type": "code",
   "execution_count": null,
   "metadata": {},
   "outputs": [],
   "source": [
    "# data = pd.read_csv(\"train_data_sum_new_last_5.csv\", sep=\";\")\n",
    "# data.head()\n",
    "# data = pd.read_csv(\"train_data_new_no_minute.csv\", sep=\";\")\n",
    "# data.head()\n",
    "data = pd.read_csv(\"data_0.2/data_game_values_train.csv\", sep=\";\")\n",
    "data.head(20)"
   ]
  },
  {
   "cell_type": "code",
   "execution_count": null,
   "metadata": {},
   "outputs": [],
   "source": [
    "his_h, _ = np.histogram(data.home_score, [0, 1, 2, 3, 4, 5, 6, 7, 8, 9])\n",
    "his_a, _ = np.histogram(data.away_score, [0, 1, 2, 3, 4, 5, 6, 7, 8, 9])\n",
    "fig, (ax1, ax2) = plt.subplots(1, 2)\n",
    "fig.suptitle(\"Home, Away, Poisson?\")\n",
    "ax1.bar(np.arange(len(his_h)), his_h)\n",
    "ax2.bar(np.arange(len(his_a)), his_a)"
   ]
  },
  {
   "cell_type": "code",
   "execution_count": null,
   "metadata": {},
   "outputs": [],
   "source": [
    "data_new = pd.DataFrame(\n",
    "    {\n",
    "        \"winner\": [\n",
    "            1\n",
    "            if data.home_score.iloc[x] > data.away_score.iloc[x]\n",
    "            else 0\n",
    "            if data.home_score.iloc[x] == data.away_score.iloc[x]\n",
    "            else -1\n",
    "            for x in range(data.shape[0])\n",
    "        ]\n",
    "    }\n",
    ")"
   ]
  },
  {
   "cell_type": "code",
   "execution_count": null,
   "metadata": {},
   "outputs": [],
   "source": [
    "data_new[\"home_score\"] = data[\"home_score\"]\n",
    "data_new[\"away_score\"] = data[\"away_score\"]\n",
    "\n",
    "data_new[\"score_diff\"] = data[\"home_score\"] - data[\"away_score\"]\n",
    "data_new[\"home_xG\"] = data[\"home_xG\"]\n",
    "data_new[\"home_xG_all\"] = data[\"home_xG\"] + data[\"home_sub_xG\"]\n",
    "data_new[\"home_xT\"] = data[\"home_xT\"]\n",
    "data_new[\"home_xT_all\"] = data[\"home_xT\"] + data[\"home_sub_xT\"]\n",
    "data_new[\"home_xD\"] = data[\"home_xD\"]\n",
    "data_new[\"home_xD_all\"] = data[\"home_xD\"] + data[\"home_sub_xD\"]\n",
    "data_new[\"home_xK\"] = data[\"home_xK\"]\n",
    "data_new[\"home_xK_all\"] = data[\"home_xK\"] + data[\"home_sub_xK\"]\n",
    "data_new[\"home_all_att\"] = data_new[\"home_xG_all\"] + data_new[\"home_xT_all\"]\n",
    "data_new[\"home_all_def\"] = data_new[\"home_xD_all\"] + data_new[\"home_xK_all\"]\n",
    "\n",
    "data_new[\"away_xG\"] = data[\"away_xG\"]\n",
    "data_new[\"away_xG_all\"] = data[\"away_xG\"] + data[\"away_sub_xG\"]\n",
    "data_new[\"away_xT\"] = data[\"away_xT\"]\n",
    "data_new[\"away_xT_all\"] = data[\"away_xT\"] + data[\"away_sub_xT\"]\n",
    "data_new[\"away_xD\"] = data[\"away_xD\"]\n",
    "data_new[\"away_xD_all\"] = data[\"away_xD\"] + data[\"away_sub_xD\"]\n",
    "data_new[\"away_xK\"] = data[\"away_xK\"]\n",
    "data_new[\"away_xK_all\"] = data[\"away_xK\"] + data[\"away_sub_xK\"]\n",
    "data_new[\"away_all_att\"] = data_new[\"away_xG_all\"] + data_new[\"away_xT_all\"]\n",
    "data_new[\"away_all_def\"] = data_new[\"away_xD_all\"] + data_new[\"away_xK_all\"]\n",
    "\n",
    "data_new[\"xK_diff\"] = data[\"home_xK\"] - data[\"away_xK\"]\n",
    "data_new[\"xD_diff\"] = data[\"home_xD\"] - data[\"away_xD\"]\n",
    "data_new[\"xT_diff\"] = data[\"home_xT\"] - data[\"away_xT\"]\n",
    "data_new[\"xG_diff\"] = data[\"home_xG\"] - data[\"away_xG\"]\n",
    "data_new[\"xK_diff_all\"] = data_new[\"home_xK_all\"] - data_new[\"away_xK_all\"]\n",
    "data_new[\"xD_diff_all\"] = data_new[\"home_xD_all\"] - data_new[\"away_xD_all\"]\n",
    "data_new[\"xT_diff_all\"] = data_new[\"home_xT_all\"] - data_new[\"away_xT_all\"]\n",
    "data_new[\"xG_diff_all\"] = data_new[\"home_xG_all\"] - data_new[\"away_xG_all\"]\n",
    "data_new[\"diff_all_att\"] = data_new[\"home_all_att\"] - data_new[\"away_all_att\"]\n",
    "data_new[\"diff_att_def\"] = data_new[\"home_all_att\"] - data_new[\"away_all_def\"]\n",
    "data_new[\"diff_def_att\"] = data_new[\"home_all_def\"] - data_new[\"away_all_att\"]\n",
    "data_new[\"diff_all\"] = (\n",
    "    data_new[\"home_all_att\"]\n",
    "    + data_new[\"home_all_def\"]\n",
    "    - data_new[\"away_all_att\"]\n",
    "    - data_new[\"away_all_def\"]\n",
    ")\n",
    "\n",
    "\n",
    "data_new.head()"
   ]
  },
  {
   "cell_type": "code",
   "execution_count": null,
   "metadata": {},
   "outputs": [],
   "source": [
    "data_new.corr()[[\"winner\", \"home_score\", \"away_score\", \"score_diff\"]].style.applymap(\n",
    "    lambda v: \"opacity: 20%;\" if (v < 0.3) and (v > -0.3) else None\n",
    ")"
   ]
  },
  {
   "cell_type": "code",
   "execution_count": null,
   "metadata": {},
   "outputs": [],
   "source": []
  }
 ],
 "metadata": {
  "kernelspec": {
   "display_name": "Python 3.10.4 ('packing-report')",
   "language": "python",
   "name": "python3"
  },
  "language_info": {
   "codemirror_mode": {
    "name": "ipython",
    "version": 3
   },
   "file_extension": ".py",
   "mimetype": "text/x-python",
   "name": "python",
   "nbconvert_exporter": "python",
   "pygments_lexer": "ipython3",
   "version": "3.10.4"
  },
  "orig_nbformat": 4,
  "vscode": {
   "interpreter": {
    "hash": "712082fa5832080cfbc451c8f4e95f25cd39c626d7d8aebf8310513402cfb031"
   }
  }
 },
 "nbformat": 4,
 "nbformat_minor": 2
}
