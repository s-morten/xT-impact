{
 "cells": [
  {
   "cell_type": "code",
   "execution_count": null,
   "metadata": {},
   "outputs": [],
   "source": [
    "import socceraction.spadl as spadl\n",
    "import socceraction.xthreat as xthreat\n",
    "import soccerdata as sd\n",
    "from pathlib import PosixPath\n",
    "import pandas as pd\n",
    "from tqdm import tqdm\n",
    "from datetime import datetime\n",
    "import numpy as np\n",
    "import matplotlib.pyplot as plt"
   ]
  },
  {
   "cell_type": "code",
   "execution_count": null,
   "metadata": {},
   "outputs": [],
   "source": [
    "xTModell = xthreat.load_model(\n",
    "    \"/home/morten/Develop/packing-report/xT-impact/models/xT_test\"\n",
    ")"
   ]
  },
  {
   "cell_type": "code",
   "execution_count": null,
   "metadata": {},
   "outputs": [],
   "source": [
    "choosen_match_id = 1557709"
   ]
  },
  {
   "cell_type": "code",
   "execution_count": null,
   "metadata": {},
   "outputs": [],
   "source": [
    "df_games"
   ]
  },
  {
   "cell_type": "code",
   "execution_count": null,
   "metadata": {},
   "outputs": [],
   "source": [
    "ws = sd.WhoScored(\n",
    "    leagues=\"GER-Bundesliga2\",\n",
    "    seasons=[21],\n",
    "    no_cache=False,\n",
    "    no_store=False,\n",
    "    data_dir=PosixPath(\"/home/morten/Develop/Open-Data/soccerdata\"),\n",
    "    path_to_browser=\"/usr/bin/chromium\",\n",
    "    headless=True,\n",
    ")\n",
    "\n",
    "loader = ws.read_events(match_id=choosen_match_id, output_fmt=\"loader\")"
   ]
  },
  {
   "cell_type": "code",
   "execution_count": null,
   "metadata": {},
   "outputs": [],
   "source": [
    "df_actions_ltr = spadl.play_left_to_right(\n",
    "    df_actions, df_games[df_games[\"game_id\"] == choosen_match_id].home_team_id.values[0]\n",
    ")\n",
    "df_shot_actions = df_actions_ltr[df_actions_ltr[\"type_id\"] == 11]\n",
    "xG_ratings = xTModell.rate_xG(df_shot_actions.reset_index())\n",
    "df_xg = pd.DataFrame(\n",
    "    {\n",
    "        \"time\": ((df_shot_actions[\"period_id\"] - 1) * 45)\n",
    "        + (df_shot_actions[\"time_seconds\"] / 60),\n",
    "        \"team\": df_shot_actions[\"team_id\"],\n",
    "        \"xg\": xG_ratings,\n",
    "    }\n",
    ")\n",
    "# GI actions\n",
    "df_goals = df_shot_actions[df_shot_actions[\"result_id\"] == 1]\n",
    "df_own_goals = df_actions_ltr[df_actions_ltr[\"result_id\"] == 3]\n",
    "df_all_goals = pd.concat([df_goals, df_own_goals], ignore_index=True)\n",
    "df_all_goals2 = pd.DataFrame(\n",
    "    {\n",
    "        \"time\": ((df_all_goals[\"period_id\"] - 1) * 45)\n",
    "        + (df_all_goals[\"time_seconds\"] / 60),\n",
    "        \"team_id\": [\n",
    "            x[\"team_id\"]\n",
    "            if (x[\"result_id\"] == 1)\n",
    "            else df_teams[df_teams[\"team_id\"] != x[\"team_id\"]][\"team_id\"].values[0]\n",
    "            for _, x in df_all_goals.iterrows()\n",
    "        ],\n",
    "    }\n",
    ")"
   ]
  },
  {
   "cell_type": "code",
   "execution_count": null,
   "metadata": {},
   "outputs": [],
   "source": [
    "df_all_goals2"
   ]
  },
  {
   "cell_type": "code",
   "execution_count": null,
   "metadata": {},
   "outputs": [],
   "source": [
    "df_all_goals.loc[\n",
    "    (df_all_goals[\"team\"] == 1143)\n",
    "    & (df_all_goals[\"time\"] < 45)\n",
    "    & (df_all_goals[\"xt\"] > 0)\n",
    "][\n",
    "    \"xt\"\n",
    "].sum()  # all"
   ]
  },
  {
   "cell_type": "code",
   "execution_count": null,
   "metadata": {},
   "outputs": [],
   "source": [
    "df_teams = loader.teams(game_id=choosen_match_id)\n",
    "df_teams"
   ]
  },
  {
   "cell_type": "code",
   "execution_count": null,
   "metadata": {},
   "outputs": [],
   "source": [
    "df_players = loader.players(game_id=choosen_match_id)\n",
    "df_players"
   ]
  },
  {
   "cell_type": "code",
   "execution_count": null,
   "metadata": {},
   "outputs": [],
   "source": [
    "df_games = loader.games(competition_id=\"GER-Bundesliga2\", season_id=\"2122\")\n",
    "df_games"
   ]
  },
  {
   "cell_type": "code",
   "execution_count": null,
   "metadata": {},
   "outputs": [],
   "source": [
    "df_events = loader.events(game_id=choosen_match_id)\n",
    "df_events"
   ]
  },
  {
   "cell_type": "code",
   "execution_count": null,
   "metadata": {},
   "outputs": [],
   "source": [
    "ce = sd.ClubElo(\n",
    "    no_cache=False,\n",
    "    no_store=False,\n",
    "    data_dir=PosixPath(\"/home/morten/Develop/Open-Data/soccerdata\"),\n",
    ")"
   ]
  },
  {
   "cell_type": "code",
   "execution_count": null,
   "metadata": {},
   "outputs": [],
   "source": [
    "df_actions = (\n",
    "    spadl.opta.convert_to_actions(\n",
    "        df_events,\n",
    "        df_games[df_games[\"game_id\"] == choosen_match_id].home_team_id.values[0],\n",
    "    )\n",
    "    .merge(spadl.actiontypes_df())\n",
    "    .merge(df_players[[\"player_name\", \"player_id\"]])\n",
    ")\n",
    "df_actions_ltr = spadl.play_left_to_right(\n",
    "    df_actions, df_games[df_games[\"game_id\"] == choosen_match_id].home_team_id.values[0]\n",
    ")\n",
    "df_actions_ltr"
   ]
  },
  {
   "cell_type": "code",
   "execution_count": null,
   "metadata": {},
   "outputs": [],
   "source": [
    "df_succ = xthreat.get_successful_move_actions(df_actions_ltr)\n",
    "df_succ"
   ]
  },
  {
   "cell_type": "code",
   "execution_count": null,
   "metadata": {},
   "outputs": [],
   "source": [
    "xt = xTModell.rate(df_succ)\n",
    "xt_frame = pd.DataFrame(\n",
    "    {\n",
    "        \"time\": ((df_succ[\"period_id\"] - 1) * 45) + (df_succ[\"time_seconds\"] / 60),\n",
    "        \"team\": df_succ[\"team_id\"],\n",
    "        \"xt\": xt,\n",
    "    }\n",
    ")"
   ]
  },
  {
   "cell_type": "code",
   "execution_count": null,
   "metadata": {},
   "outputs": [],
   "source": [
    "xt_frame.loc[(xt_frame[\"team\"] == 1143) & (xt_frame[\"time\"] < 100)][\"xt\"].sum()  # all"
   ]
  },
  {
   "cell_type": "code",
   "execution_count": null,
   "metadata": {},
   "outputs": [],
   "source": [
    "xt_frame.loc[\n",
    "    (xt_frame[\"team\"] == 1143) & (xt_frame[\"time\"] < 100) & (xt_frame[\"xt\"] > 0)\n",
    "][\n",
    "    \"xt\"\n",
    "].sum()  # all"
   ]
  },
  {
   "cell_type": "code",
   "execution_count": null,
   "metadata": {},
   "outputs": [],
   "source": [
    "for idx, game_id in enumerate(tqdm(df_games[\"game_id\"])):\n",
    "    df_events = loader.events(game_id=game_id)\n",
    "    df_actions = (\n",
    "        spadl.opta.convert_to_actions(\n",
    "            df_events, df_games[df_games[\"game_id\"] == game_id].home_team_id.values[0]\n",
    "        )\n",
    "        .merge(spadl.actiontypes_df())\n",
    "        .merge(df_players[[\"player_name\", \"player_id\"]])\n",
    "    )\n",
    "    df_actions_ltr = spadl.play_left_to_right(\n",
    "        df_actions, df_games[df_games[\"game_id\"] == game_id].home_team_id.values[0]\n",
    "    )\n",
    "    actions_ltr = succ_actions(game_id, df_events, df_games)\n",
    "    succs_events = xthreat.get_successful_move_actions(actions_ltr)\n",
    "    xt_ratings = xTModell.rate(succs_events)\n",
    "    df_players = loader.players(game_id=game_id)\n",
    "    fill_ids(succs_events, df_players)\n",
    "    player_values = reset_player_xt_values(succs_events)\n",
    "    for indx, y in enumerate(succs_events[\"player_id\"]):\n",
    "        player_values[y] += xt_ratings[indx]\n",
    "    for x in player_values.keys():\n",
    "        if player_values[x] < 0:\n",
    "            player_values[x] = 0\n",
    "    team_values = {}\n",
    "    df_teams = loader.teams(game_id=game_id)\n",
    "    ## reset team values\n",
    "    for x in df_teams[\"team_id\"]:\n",
    "        team_values[x] = 0\n",
    "    for x in player_values.keys():\n",
    "        team_values[\n",
    "            df_players[df_players[\"player_id\"] == x][\"team_id\"].values[0]\n",
    "        ] += player_values[x]\n",
    "    game = df_games[df_games[\"game_id\"] == game_id]\n",
    "    game_date = np.datetime_as_string(game[\"game_date\"].values[0])[:10]\n",
    "    game_comp_id = game[\"competition_id\"].values[0]\n",
    "    ce_df = ce.read_by_date(game_date)\n",
    "    league_mean = np.mean(ce_df[ce_df[\"league\"] == game_comp_id].elo)\n",
    "    for x in player_values.keys():\n",
    "        team_name = df_teams[\n",
    "            df_teams[\"team_id\"]\n",
    "            != df_players[df_players[\"player_id\"] == x][\"team_id\"].values[0]\n",
    "        ][\"team_name\"].values[0]\n",
    "        team_elo = ce_df.loc[team_name].elo\n",
    "        id_to_xt_impact[x] += player_values[x] * (\n",
    "            player_values[x]\n",
    "            / team_values[df_players[df_players[\"player_id\"] == x][\"team_id\"].values[0]]\n",
    "        )\n",
    "        id_to_xt_impact_elo[x] += (\n",
    "            player_values[x]\n",
    "            * (\n",
    "                player_values[x]\n",
    "                / team_values[\n",
    "                    df_players[df_players[\"player_id\"] == x][\"team_id\"].values[0]\n",
    "                ]\n",
    "            )\n",
    "        ) * (team_elo / league_mean)"
   ]
  },
  {
   "cell_type": "code",
   "execution_count": null,
   "metadata": {},
   "outputs": [],
   "source": [
    "df_res = pd.DataFrame.from_dict(\n",
    "    {\n",
    "        \"ids\": [x for x in id_to_name.keys()],\n",
    "        \"names\": [id_to_name[x] for x in id_to_name.keys()],\n",
    "        \"impact\": [id_to_xt_impact[x] for x in id_to_name.keys()],\n",
    "        \"impact_elo\": [id_to_xt_impact_elo[x] for x in id_to_name.keys()],\n",
    "    }\n",
    ")"
   ]
  },
  {
   "cell_type": "code",
   "execution_count": null,
   "metadata": {},
   "outputs": [],
   "source": [
    "df_res.sort_values(\"impact\", ascending=False).head(20)"
   ]
  },
  {
   "cell_type": "code",
   "execution_count": null,
   "metadata": {},
   "outputs": [],
   "source": [
    "id_to_name, id_to_xt_impact, id_to_xt_impact_elo = {}, {}, {}\n",
    "\n",
    "for idx, game_id in enumerate(tqdm(df_games[\"game_id\"])):\n",
    "    df_events = loader.events(game_id=game_id)\n",
    "    actions_ltr = succ_actions(game_id, df_events, df_games)\n",
    "    succs_events = xthreat.get_successful_move_actions(actions_ltr)\n",
    "    xt_ratings = xTModell.rate(succs_events)\n",
    "    df_players = loader.players(game_id=game_id)\n",
    "    # fill_ids(succs_events, df_players)\n",
    "    for y in succs_events[\"player_id\"]:\n",
    "        if y not in id_to_name:\n",
    "            player_name = df_players[df_players[\"player_id\"] == y][\n",
    "                \"player_name\"\n",
    "            ].values[0]\n",
    "            id_to_name[y] = df_players[df_players[\"player_id\"] == y][\n",
    "                \"player_name\"\n",
    "            ].values[0]\n",
    "            id_to_xt_impact[y] = 0\n",
    "            id_to_xt_impact_elo[y] = [[], [], []]\n",
    "    player_values = reset_player_xt_values(succs_events)\n",
    "    for indx, y in enumerate(succs_events[\"player_id\"]):\n",
    "        player_values[y] += xt_ratings[indx]\n",
    "    for x in player_values.keys():\n",
    "        if player_values[x] < 0:\n",
    "            player_values[x] = 0\n",
    "    team_values = {}\n",
    "    df_teams = loader.teams(game_id=game_id)\n",
    "    ## reset team values\n",
    "    for x in df_teams[\"team_id\"]:\n",
    "        team_values[x] = 0\n",
    "    for x in player_values.keys():\n",
    "        team_values[\n",
    "            df_players[df_players[\"player_id\"] == x][\"team_id\"].values[0]\n",
    "        ] += player_values[x]\n",
    "    game = df_games[df_games[\"game_id\"] == game_id]\n",
    "    game_date = np.datetime_as_string(game[\"game_date\"].values[0])[:10]\n",
    "    game_comp_id = game[\"competition_id\"].values[0]\n",
    "    ce_df = ce.read_by_date(game_date)\n",
    "    league_mean = np.mean(ce_df[ce_df[\"league\"] == game_comp_id].elo)\n",
    "    for x in player_values.keys():\n",
    "        if df_players[df_players[\"player_id\"] == x][\"is_starter\"].values[0]:\n",
    "            team_name = df_teams[\n",
    "                df_teams[\"team_id\"]\n",
    "                != df_players[df_players[\"player_id\"] == x][\"team_id\"].values[0]\n",
    "            ][\"team_name\"].values[0]\n",
    "            team_elo = ce_df.loc[team_name].elo\n",
    "            id_to_xt_impact[x] += player_values[x] * (\n",
    "                player_values[x]\n",
    "                / team_values[\n",
    "                    df_players[df_players[\"player_id\"] == x][\"team_id\"].values[0]\n",
    "                ]\n",
    "            )\n",
    "            id_to_xt_impact_elo[x][1].append(\n",
    "                (\n",
    "                    player_values[x]\n",
    "                    * (\n",
    "                        player_values[x]\n",
    "                        / team_values[\n",
    "                            df_players[df_players[\"player_id\"] == x][\"team_id\"].values[\n",
    "                                0\n",
    "                            ]\n",
    "                        ]\n",
    "                    )\n",
    "                )\n",
    "                * (team_elo / league_mean)\n",
    "            )\n",
    "            id_to_xt_impact_elo[x][0].append(\n",
    "                df_players[df_players[\"player_id\"] == x][\"minutes_played\"].values[0]\n",
    "            )\n",
    "            id_to_xt_impact_elo[x][2].append(\n",
    "                id_to_xt_impact_elo[x][1][-1] / id_to_xt_impact_elo[x][0][-1]\n",
    "            )"
   ]
  }
 ],
 "metadata": {
  "kernelspec": {
   "display_name": "Python 3.10.4 ('packing-report')",
   "language": "python",
   "name": "python3"
  },
  "language_info": {
   "codemirror_mode": {
    "name": "ipython",
    "version": 3
   },
   "file_extension": ".py",
   "mimetype": "text/x-python",
   "name": "python",
   "nbconvert_exporter": "python",
   "pygments_lexer": "ipython3",
   "version": "3.10.4"
  },
  "orig_nbformat": 4,
  "vscode": {
   "interpreter": {
    "hash": "712082fa5832080cfbc451c8f4e95f25cd39c626d7d8aebf8310513402cfb031"
   }
  }
 },
 "nbformat": 4,
 "nbformat_minor": 2
}
