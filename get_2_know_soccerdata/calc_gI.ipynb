{
 "cells": [
  {
   "cell_type": "code",
   "execution_count": null,
   "metadata": {},
   "outputs": [],
   "source": [
    "import socceraction.spadl as spadl\n",
    "import socceraction.xthreat as xthreat\n",
    "import soccerdata as sd\n",
    "from pathlib import PosixPath\n",
    "import pandas as pd\n",
    "from tqdm import tqdm\n",
    "from datetime import datetime\n",
    "import numpy as np\n",
    "import matplotlib.pyplot as plt"
   ]
  },
  {
   "cell_type": "code",
   "execution_count": null,
   "metadata": {},
   "outputs": [],
   "source": [
    "choosen_match_id = 1557659"
   ]
  },
  {
   "cell_type": "code",
   "execution_count": null,
   "metadata": {},
   "outputs": [],
   "source": [
    "ws = sd.WhoScored(\n",
    "    leagues=\"GER-Bundesliga2\",\n",
    "    seasons=[21],\n",
    "    no_cache=False,\n",
    "    no_store=False,\n",
    "    data_dir=PosixPath(\"/home/morten/Develop/Open-Data/soccerdata\"),\n",
    "    path_to_browser=\"/usr/bin/chromium\",\n",
    "    headless=True,\n",
    ")\n",
    "\n",
    "loader = ws.read_events(match_id=choosen_match_id, output_fmt=\"loader\")"
   ]
  },
  {
   "cell_type": "code",
   "execution_count": null,
   "metadata": {},
   "outputs": [],
   "source": [
    "df_teams = loader.teams(game_id=choosen_match_id)\n",
    "df_teams"
   ]
  },
  {
   "cell_type": "code",
   "execution_count": null,
   "metadata": {},
   "outputs": [],
   "source": [
    "df_events = loader.events(game_id=choosen_match_id)"
   ]
  },
  {
   "cell_type": "code",
   "execution_count": null,
   "metadata": {},
   "outputs": [],
   "source": [
    "actions = {}\n",
    "actions[df_events[\"game_id\"][0]] = spadl.opta.convert_to_actions(\n",
    "    df_events, df_teams[\"team_id\"][0]\n",
    ")\n",
    "# 2. Convert direction of play\n",
    "actions_ltr = pd.concat(\n",
    "    [spadl.play_left_to_right(actions[df_events[\"game_id\"][0]], df_teams[\"team_id\"][0])]\n",
    ")\n",
    "\n",
    "shoot_actions = actions_ltr[actions_ltr[\"type_id\"] == 11]\n",
    "goals = shoot_actions[shoot_actions[\"result_id\"] == 1]\n",
    "goals = goals.merge(df_teams)\n",
    "# shoot_actions = actions_ltr[actions_ltr['type_id'] == 11]\n",
    "own_goals = actions_ltr[actions_ltr[\"result_id\"] == 3]\n",
    "own_goals = own_goals.merge(df_teams)\n",
    "all_goals = pd.concat([goals, own_goals], ignore_index=True)\n",
    "all_goals"
   ]
  },
  {
   "cell_type": "code",
   "execution_count": null,
   "metadata": {},
   "outputs": [],
   "source": [
    "for team in df_teams[\"team_id\"]:\n",
    "    print(\n",
    "        f\"{df_teams[df_teams['team_id'] == team]['team_name'].values[0]}: {goals[goals['team_id'] == team].shape[0] + own_goals[own_goals['team_id'] != team].shape[0]}\"\n",
    "    )"
   ]
  },
  {
   "cell_type": "code",
   "execution_count": null,
   "metadata": {},
   "outputs": [],
   "source": [
    "df_players = loader.players(game_id=choosen_match_id)\n",
    "whole_game = max(df_players[\"minutes_played\"])\n",
    "player_dict = {}\n",
    "for player_id in df_players[\"player_id\"]:\n",
    "    player_dict[player_id] = {}\n",
    "    player_dict[player_id][\"gI\"] = 0\n",
    "    player_dict[player_id][\"minutes\"] = df_players[\n",
    "        df_players[\"player_id\"] == player_id\n",
    "    ][\"minutes_played\"].values[0]\n",
    "    for goal_id in all_goals[\"original_event_id\"]:\n",
    "        if df_players[df_players[\"player_id\"] == player_id][\"is_starter\"].values[0]:\n",
    "            if df_players[df_players[\"player_id\"] == player_id][\n",
    "                \"minutes_played\"\n",
    "            ].values[0] >= (\n",
    "                (\n",
    "                    (\n",
    "                        all_goals[all_goals[\"original_event_id\"] == goal_id][\n",
    "                            \"period_id\"\n",
    "                        ].values[0]\n",
    "                        - 1\n",
    "                    )\n",
    "                    * 45\n",
    "                )\n",
    "                + (\n",
    "                    all_goals[all_goals[\"original_event_id\"] == goal_id][\n",
    "                        \"time_seconds\"\n",
    "                    ].values[0]\n",
    "                    / 60\n",
    "                )\n",
    "            ):\n",
    "                if (\n",
    "                    all_goals[all_goals[\"original_event_id\"] == goal_id][\n",
    "                        \"type_id\"\n",
    "                    ].values[0]\n",
    "                    == 11\n",
    "                ):\n",
    "                    player_dict[player_id][\"gI\"] += (\n",
    "                        1\n",
    "                        if all_goals[all_goals[\"original_event_id\"] == goal_id][\n",
    "                            \"team_id\"\n",
    "                        ].values[0]\n",
    "                        == df_players[df_players[\"player_id\"] == player_id][\n",
    "                            \"team_id\"\n",
    "                        ].values[0]\n",
    "                        else -1\n",
    "                    )\n",
    "                else:\n",
    "                    player_dict[player_id][\"gI\"] += (\n",
    "                        -1\n",
    "                        if all_goals[all_goals[\"original_event_id\"] == goal_id][\n",
    "                            \"team_id\"\n",
    "                        ].values[0]\n",
    "                        == df_players[df_players[\"player_id\"] == player_id][\n",
    "                            \"team_id\"\n",
    "                        ].values[0]\n",
    "                        else 1\n",
    "                    )\n",
    "        else:\n",
    "            if (\n",
    "                (\n",
    "                    (\n",
    "                        all_goals[all_goals[\"original_event_id\"] == goal_id][\n",
    "                            \"period_id\"\n",
    "                        ].values[0]\n",
    "                        - 1\n",
    "                    )\n",
    "                    * 45\n",
    "                )\n",
    "                + (\n",
    "                    all_goals[all_goals[\"original_event_id\"] == goal_id][\n",
    "                        \"time_seconds\"\n",
    "                    ].values[0]\n",
    "                    / 60\n",
    "                )\n",
    "            ) >= (\n",
    "                whole_game\n",
    "                - df_players[df_players[\"player_id\"] == player_id][\n",
    "                    \"minutes_played\"\n",
    "                ].values[0]\n",
    "            ):\n",
    "                if (\n",
    "                    all_goals[all_goals[\"original_event_id\"] == goal_id][\n",
    "                        \"type_id\"\n",
    "                    ].values[0]\n",
    "                    == 11\n",
    "                ):\n",
    "                    player_dict[player_id][\"gI\"] += (\n",
    "                        1\n",
    "                        if all_goals[all_goals[\"original_event_id\"] == goal_id][\n",
    "                            \"team_id\"\n",
    "                        ].values[0]\n",
    "                        == df_players[df_players[\"player_id\"] == player_id][\n",
    "                            \"team_id\"\n",
    "                        ].values[0]\n",
    "                        else -1\n",
    "                    )\n",
    "                else:\n",
    "                    player_dict[player_id][\"gI\"] += (\n",
    "                        -1\n",
    "                        if all_goals[all_goals[\"original_event_id\"] == goal_id][\n",
    "                            \"team_id\"\n",
    "                        ].values[0]\n",
    "                        == df_players[df_players[\"player_id\"] == player_id][\n",
    "                            \"team_id\"\n",
    "                        ].values[0]\n",
    "                        else 1\n",
    "                    )"
   ]
  },
  {
   "cell_type": "code",
   "execution_count": null,
   "metadata": {},
   "outputs": [],
   "source": [
    "gi_df = pd.DataFrame.from_dict(\n",
    "    {\n",
    "        \"player_id\": player_dict.keys(),\n",
    "        \"gI\": [player_dict[x][\"gI\"] for x in player_dict.keys()],\n",
    "        \"minutes\": [player_dict[x][\"minutes\"] for x in player_dict.keys()],\n",
    "    }\n",
    ").merge(df_players[[\"player_id\", \"player_name\"]])\n",
    "gi_df"
   ]
  },
  {
   "cell_type": "code",
   "execution_count": null,
   "metadata": {},
   "outputs": [],
   "source": []
  }
 ],
 "metadata": {
  "kernelspec": {
   "display_name": "Python 3.10.4 ('packing-report')",
   "language": "python",
   "name": "python3"
  },
  "language_info": {
   "codemirror_mode": {
    "name": "ipython",
    "version": 3
   },
   "file_extension": ".py",
   "mimetype": "text/x-python",
   "name": "python",
   "nbconvert_exporter": "python",
   "pygments_lexer": "ipython3",
   "version": "3.10.4"
  },
  "orig_nbformat": 4,
  "vscode": {
   "interpreter": {
    "hash": "712082fa5832080cfbc451c8f4e95f25cd39c626d7d8aebf8310513402cfb031"
   }
  }
 },
 "nbformat": 4,
 "nbformat_minor": 2
}
