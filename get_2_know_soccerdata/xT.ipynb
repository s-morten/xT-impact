{
 "cells": [
  {
   "cell_type": "code",
   "execution_count": null,
   "metadata": {},
   "outputs": [],
   "source": [
    "import os\n",
    "import numpy as np\n",
    "import pandas as pd"
   ]
  },
  {
   "cell_type": "code",
   "execution_count": null,
   "metadata": {},
   "outputs": [],
   "source": [
    "import soccerdata as sd"
   ]
  },
  {
   "cell_type": "code",
   "execution_count": null,
   "metadata": {},
   "outputs": [],
   "source": [
    "from socceraction.data.opta import OptaLoader\n",
    "from socceraction.data.statsbomb import StatsBombLoader"
   ]
  },
  {
   "cell_type": "code",
   "execution_count": null,
   "metadata": {},
   "outputs": [],
   "source": [
    "from pathlib import PosixPath\n",
    "\n",
    "\n",
    "ws = sd.WhoScored(\n",
    "    #  \"GER-Bundesliga\", \"GER-Bundesliga2\", \"ENG-Premier League\", \"ESP-La Liga\", \"FRA-Ligue 1\", \"ITA-Serie A\"\n",
    "    leagues=[\"GER-Bundesliga2\"],\n",
    "    seasons=[21],\n",
    "    no_cache=False,\n",
    "    no_store=False,\n",
    "    data_dir=PosixPath(\"/home/morten/Develop/Open-Data/soccerdata\"),\n",
    "    path_to_browser=\"/usr/bin/chromium\",\n",
    "    headless=True,\n",
    ")"
   ]
  },
  {
   "cell_type": "code",
   "execution_count": null,
   "metadata": {},
   "outputs": [],
   "source": [
    "corona_games = [\n",
    "    1376730,\n",
    "    1376707,\n",
    "    1376732,\n",
    "    1376726,\n",
    "    1376733,\n",
    "    1376725,\n",
    "    1376729,\n",
    "    1376716,\n",
    "    1376735,\n",
    "    1376734,\n",
    "    1376721,\n",
    "    1376722,\n",
    "    1376723,\n",
    "    1376728,\n",
    "    1376724,\n",
    "    1376731,\n",
    "    1376727,\n",
    "    1376720,\n",
    "    1376718,\n",
    "    1376717,\n",
    "    1376719,\n",
    "]\n",
    "\n",
    "loader = ws.read_events(output_fmt=\"loader\")\n",
    "# loader = ws.read_events(output_fmt='loader', skip=corona_games)"
   ]
  },
  {
   "cell_type": "code",
   "execution_count": null,
   "metadata": {},
   "outputs": [],
   "source": [
    "# Now use this loader to load the data\n",
    "game_list = []\n",
    "# print(\"Games:\")\n",
    "for season in [\"2122\"]:\n",
    "    df_games = loader.games(competition_id=\"GER-Bundesliga2\", season_id=season)\n",
    "    game_list.append(df_games)\n",
    "\n",
    "# display(df_games.head())\n",
    "# print(df_games.head())"
   ]
  },
  {
   "cell_type": "code",
   "execution_count": null,
   "metadata": {},
   "outputs": [],
   "source": [
    "game_list[0].head()"
   ]
  },
  {
   "cell_type": "code",
   "execution_count": null,
   "metadata": {},
   "outputs": [],
   "source": [
    "# tmp = pd.concat(game_list)\n",
    "# df_all_games = pd.concat([tmp, df_all_games])"
   ]
  },
  {
   "cell_type": "code",
   "execution_count": null,
   "metadata": {},
   "outputs": [],
   "source": [
    "df_all_games = game_list[0]"
   ]
  },
  {
   "cell_type": "code",
   "execution_count": null,
   "metadata": {},
   "outputs": [],
   "source": [
    "df_all_games.head()"
   ]
  },
  {
   "cell_type": "code",
   "execution_count": null,
   "metadata": {},
   "outputs": [],
   "source": [
    "df_all_games.shape"
   ]
  },
  {
   "cell_type": "code",
   "execution_count": null,
   "metadata": {},
   "outputs": [],
   "source": [
    "import pandas as pd\n",
    "import socceraction.spadl as spadl\n",
    "import socceraction.xthreat as xthreat\n",
    "from tqdm import tqdm"
   ]
  },
  {
   "cell_type": "code",
   "execution_count": null,
   "metadata": {},
   "outputs": [],
   "source": [
    "spadl.actiontypes_df()"
   ]
  },
  {
   "cell_type": "code",
   "execution_count": null,
   "metadata": {},
   "outputs": [],
   "source": [
    "loader.events(df_all_games.game_id.values[0])"
   ]
  },
  {
   "cell_type": "code",
   "execution_count": null,
   "metadata": {},
   "outputs": [],
   "source": [
    "spadl.opta.convert_to_actions(\n",
    "    loader.events(df_all_games.game_id.values[0]), df_all_games.home_team_id.values[0]\n",
    ")"
   ]
  },
  {
   "cell_type": "code",
   "execution_count": null,
   "metadata": {},
   "outputs": [],
   "source": [
    "# 2. Convert direction of play\n",
    "actions_ltr = pd.concat(\n",
    "    [\n",
    "        spadl.play_left_to_right(\n",
    "            spadl.opta.convert_to_actions(\n",
    "                loader.events(game[1][\"game_id\"]).dropna(subset=[\"player_id\"]),\n",
    "                game[1][\"home_team_id\"],\n",
    "            ),\n",
    "            game[1][\"home_team_id\"],\n",
    "        )\n",
    "        for game in df_all_games.iterrows()\n",
    "    ]\n",
    ")"
   ]
  },
  {
   "cell_type": "code",
   "execution_count": null,
   "metadata": {},
   "outputs": [],
   "source": [
    "actions_ltr"
   ]
  },
  {
   "cell_type": "code",
   "execution_count": null,
   "metadata": {},
   "outputs": [],
   "source": [
    "# 3. Train xT model\n",
    "xTModel = xthreat.ExpectedThreat(l=32, w=24)\n",
    "xTModel.fit(actions_ltr)"
   ]
  },
  {
   "cell_type": "code",
   "execution_count": null,
   "metadata": {},
   "outputs": [],
   "source": [
    "import matplotsoccer as mps\n",
    "\n",
    "# Inspect the learned heatmap\n",
    "mps.heatmap(xTModel.xT, cmap=\"hot\", linecolor=\"white\", cbar=\"True\")\n",
    "\n",
    "# Inspect the interpolated heatmap used for predictions\n",
    "interp = xTModel.interpolator()\n",
    "x = np.linspace(0, 105, 1050)\n",
    "y = np.linspace(0, 68, 680)\n",
    "mps.heatmap(interp(x, y), cmap=\"hot\", linecolor=\"white\", cbar=\"True\")"
   ]
  },
  {
   "cell_type": "code",
   "execution_count": null,
   "metadata": {},
   "outputs": [],
   "source": [
    "xTModel.save_model(\"/home/morten/Develop/packing-report/xT-impact/models/xT_full_data\")"
   ]
  },
  {
   "cell_type": "code",
   "execution_count": null,
   "metadata": {},
   "outputs": [],
   "source": []
  }
 ],
 "metadata": {
  "kernelspec": {
   "display_name": "Python 3.10.4 ('packing-report')",
   "language": "python",
   "name": "python3"
  },
  "language_info": {
   "codemirror_mode": {
    "name": "ipython",
    "version": 3
   },
   "file_extension": ".py",
   "mimetype": "text/x-python",
   "name": "python",
   "nbconvert_exporter": "python",
   "pygments_lexer": "ipython3",
   "version": "3.10.4"
  },
  "orig_nbformat": 4,
  "vscode": {
   "interpreter": {
    "hash": "712082fa5832080cfbc451c8f4e95f25cd39c626d7d8aebf8310513402cfb031"
   }
  }
 },
 "nbformat": 4,
 "nbformat_minor": 2
}
