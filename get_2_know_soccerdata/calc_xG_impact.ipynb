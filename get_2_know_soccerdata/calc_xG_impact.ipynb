{
 "cells": [
  {
   "cell_type": "code",
   "execution_count": null,
   "metadata": {},
   "outputs": [],
   "source": [
    "import socceraction.spadl as spadl\n",
    "import socceraction.xthreat as xthreat\n",
    "import soccerdata as sd\n",
    "from pathlib import PosixPath\n",
    "import pandas as pd\n",
    "from tqdm import tqdm\n",
    "from datetime import datetime\n",
    "import numpy as np\n",
    "import matplotlib.pyplot as plt"
   ]
  },
  {
   "cell_type": "code",
   "execution_count": null,
   "metadata": {},
   "outputs": [],
   "source": [
    "xTModell = xthreat.load_model(\n",
    "    \"/home/morten/Develop/packing-report/xT-impact/models/xT_test\"\n",
    ")"
   ]
  },
  {
   "cell_type": "code",
   "execution_count": null,
   "metadata": {},
   "outputs": [],
   "source": [
    "choosen_match_id = 1557933"
   ]
  },
  {
   "cell_type": "code",
   "execution_count": null,
   "metadata": {},
   "outputs": [],
   "source": [
    "ws = sd.WhoScored(\n",
    "    leagues=\"GER-Bundesliga2\",\n",
    "    seasons=[21],\n",
    "    no_cache=False,\n",
    "    no_store=False,\n",
    "    data_dir=PosixPath(\"/home/morten/Develop/Open-Data/soccerdata\"),\n",
    "    path_to_browser=\"/usr/bin/chromium\",\n",
    "    headless=True,\n",
    ")\n",
    "\n",
    "loader = ws.read_events(match_id=choosen_match_id, output_fmt=\"loader\")"
   ]
  },
  {
   "cell_type": "code",
   "execution_count": null,
   "metadata": {},
   "outputs": [],
   "source": [
    "df_teams = loader.teams(game_id=choosen_match_id)\n",
    "df_teams"
   ]
  },
  {
   "cell_type": "code",
   "execution_count": null,
   "metadata": {},
   "outputs": [],
   "source": [
    "df_players = loader.players(game_id=choosen_match_id)\n",
    "df_players"
   ]
  },
  {
   "cell_type": "code",
   "execution_count": null,
   "metadata": {},
   "outputs": [],
   "source": [
    "df_events = loader.events(game_id=choosen_match_id)\n",
    "display(df_events.head())"
   ]
  },
  {
   "cell_type": "code",
   "execution_count": null,
   "metadata": {},
   "outputs": [],
   "source": [
    "spadl.results_df()"
   ]
  },
  {
   "cell_type": "code",
   "execution_count": null,
   "metadata": {},
   "outputs": [],
   "source": [
    "actions = {}\n",
    "actions[df_events[\"game_id\"][0]] = spadl.opta.convert_to_actions(\n",
    "    df_events, df_teams[\"team_id\"][0]\n",
    ")\n",
    "# 2. Convert direction of play\n",
    "actions_ltr = pd.concat(\n",
    "    [spadl.play_left_to_right(actions[df_events[\"game_id\"][0]], df_teams[\"team_id\"][0])]\n",
    ")\n",
    "\n",
    "shoot_actions = actions_ltr[actions_ltr[\"type_id\"] == 11]\n",
    "print(shoot_actions.shape)"
   ]
  },
  {
   "cell_type": "code",
   "execution_count": null,
   "metadata": {},
   "outputs": [],
   "source": [
    "xG_rating = xTModell.rate_xG(shoot_actions)\n",
    "player_values = {}\n",
    "for y in shoot_actions[\"player_id\"]:\n",
    "    player_values[y] = 0\n",
    "for indx, y in enumerate(shoot_actions[\"player_id\"]):\n",
    "    player_values[y] += xG_rating[indx]"
   ]
  },
  {
   "cell_type": "code",
   "execution_count": null,
   "metadata": {},
   "outputs": [],
   "source": [
    "for x in player_values.keys():\n",
    "    print(\n",
    "        f\"{x} : {df_players[df_players['player_id'] == x]['player_name'].values[0]} = {player_values[x]}\"\n",
    "    )"
   ]
  },
  {
   "cell_type": "code",
   "execution_count": null,
   "metadata": {},
   "outputs": [],
   "source": [
    "team_values = {}\n",
    "for x in df_teams[\"team_id\"]:\n",
    "    team_values[x] = 0\n",
    "for x in player_values.keys():\n",
    "    team_values[\n",
    "        df_players[df_players[\"player_id\"] == x][\"team_id\"].values[0]\n",
    "    ] += player_values[x]\n",
    "\n",
    "team_values"
   ]
  },
  {
   "cell_type": "code",
   "execution_count": null,
   "metadata": {},
   "outputs": [],
   "source": [
    "player_vals, pl_id, tm_id, xt_im = {}, [], [], []\n",
    "for x in player_values.keys():\n",
    "    pl_id.append(x)\n",
    "    tm_id.append(df_players[df_players[\"player_id\"] == x][\"player_name\"].values[0])\n",
    "    xt_im.append(\n",
    "        player_values[x]\n",
    "        * (\n",
    "            player_values[x]\n",
    "            / team_values[df_players[df_players[\"player_id\"] == x][\"team_id\"].values[0]]\n",
    "        )\n",
    "    )\n",
    "\n",
    "player_vals = {\"player_id\": pl_id, \"name\": tm_id, \"xG_impact\": xt_im}\n",
    "impact_df = pd.DataFrame.from_dict(player_vals)"
   ]
  },
  {
   "cell_type": "code",
   "execution_count": null,
   "metadata": {},
   "outputs": [],
   "source": [
    "pd.options.display.float_format = \"{:.10f}\".format\n",
    "impact_df.sort_values(\"xG_impact\", ascending=False)"
   ]
  },
  {
   "cell_type": "code",
   "execution_count": null,
   "metadata": {},
   "outputs": [],
   "source": [
    "ws = sd.WhoScored(\n",
    "    leagues=\"GER-Bundesliga2\",\n",
    "    seasons=[21],\n",
    "    no_cache=False,\n",
    "    no_store=False,\n",
    "    data_dir=PosixPath(\"/home/morten/Develop/Open-Data/soccerdata\"),\n",
    "    path_to_browser=\"/usr/bin/chromium\",\n",
    "    headless=True,\n",
    ")\n",
    "\n",
    "loader = ws.read_events(output_fmt=\"loader\")"
   ]
  },
  {
   "cell_type": "code",
   "execution_count": null,
   "metadata": {},
   "outputs": [],
   "source": [
    "df_games = loader.games(competition_id=\"GER-Bundesliga2\", season_id=\"2122\")"
   ]
  },
  {
   "cell_type": "code",
   "execution_count": null,
   "metadata": {},
   "outputs": [],
   "source": [
    "ce = sd.ClubElo(\n",
    "    no_cache=False,\n",
    "    no_store=False,\n",
    "    data_dir=PosixPath(\"/home/morten/Develop/Open-Data/soccerdata\"),\n",
    ")"
   ]
  },
  {
   "cell_type": "code",
   "execution_count": null,
   "metadata": {},
   "outputs": [],
   "source": [
    "# succ_actions_dict\n",
    "def shot_actions(game_id, df_events, df_games):\n",
    "    actions = {}\n",
    "    actions[game_id] = spadl.opta.convert_to_actions(\n",
    "        df_events, df_games[df_games[\"game_id\"] == game_id].home_team_id.values[0]\n",
    "    )\n",
    "    # 2. Convert direction of play\n",
    "    actions_ltr = pd.concat(\n",
    "        [\n",
    "            spadl.play_left_to_right(\n",
    "                actions[game_id],\n",
    "                df_games[df_games[\"game_id\"] == game_id].home_team_id.values[0],\n",
    "            )\n",
    "        ]\n",
    "    )\n",
    "    shot_actions_df = actions_ltr[actions_ltr[\"type_id\"] == 11]\n",
    "    return shot_actions_df\n",
    "\n",
    "\n",
    "def fill_ids(succs_events, df_players):\n",
    "    for y in succs_events[\"player_id\"]:\n",
    "        if y not in id_to_name:\n",
    "            player_name = df_players[df_players[\"player_id\"] == y][\n",
    "                \"player_name\"\n",
    "            ].values[0]\n",
    "            id_to_name[y] = df_players[df_players[\"player_id\"] == y][\n",
    "                \"player_name\"\n",
    "            ].values[0]\n",
    "            id_to_xt_impact[y] = 0\n",
    "            id_to_xt_impact_elo[y] = 0\n",
    "\n",
    "\n",
    "def reset_player_xt_values(succs_events):\n",
    "    player_values = {}\n",
    "    for indx, y in enumerate(succs_events[\"player_id\"]):\n",
    "        player_values[y] = 0\n",
    "    return player_values\n",
    "\n",
    "\n",
    "def get_club_elo_factorial(date, team, league):\n",
    "    print(\"lol\")"
   ]
  },
  {
   "cell_type": "code",
   "execution_count": null,
   "metadata": {},
   "outputs": [],
   "source": [
    "id_to_name, id_to_xt_impact, id_to_xt_impact_elo = {}, {}, {}\n",
    "\n",
    "for idx, game_id in enumerate(tqdm(df_games[\"game_id\"])):\n",
    "    df_events = loader.events(game_id=game_id)\n",
    "    shot_actions_df = shot_actions(game_id, df_events, df_games)\n",
    "    xt_ratings = xTModell.rate_xG(shot_actions_df)\n",
    "    df_players = loader.players(game_id=game_id)\n",
    "    # fill_ids(succs_events, df_players)\n",
    "    for y in shot_actions_df[\"player_id\"]:\n",
    "        if y not in id_to_name:\n",
    "            player_name = df_players[df_players[\"player_id\"] == y][\n",
    "                \"player_name\"\n",
    "            ].values[0]\n",
    "            id_to_name[y] = df_players[df_players[\"player_id\"] == y][\n",
    "                \"player_name\"\n",
    "            ].values[0]\n",
    "            id_to_xt_impact[y] = 0\n",
    "            id_to_xt_impact_elo[y] = [[], [], []]\n",
    "    player_values = reset_player_xt_values(shot_actions_df)\n",
    "    for indx, y in enumerate(shot_actions_df[\"player_id\"]):\n",
    "        player_values[y] += xt_ratings[indx]\n",
    "    for x in player_values.keys():\n",
    "        if player_values[x] < 0:\n",
    "            player_values[x] = 0\n",
    "    team_values = {}\n",
    "    df_teams = loader.teams(game_id=game_id)\n",
    "    ## reset team values\n",
    "    for x in df_teams[\"team_id\"]:\n",
    "        team_values[x] = 0\n",
    "    for x in player_values.keys():\n",
    "        team_values[\n",
    "            df_players[df_players[\"player_id\"] == x][\"team_id\"].values[0]\n",
    "        ] += player_values[x]\n",
    "    game = df_games[df_games[\"game_id\"] == game_id]\n",
    "    game_date = np.datetime_as_string(game[\"game_date\"].values[0])[:10]\n",
    "    game_comp_id = game[\"competition_id\"].values[0]\n",
    "    ce_df = ce.read_by_date(game_date)\n",
    "    league_mean = np.mean(ce_df[ce_df[\"league\"] == game_comp_id].elo)\n",
    "    for x in player_values.keys():\n",
    "        if df_players[df_players[\"player_id\"] == x][\"is_starter\"].values[0]:\n",
    "            team_name = df_teams[\n",
    "                df_teams[\"team_id\"]\n",
    "                != df_players[df_players[\"player_id\"] == x][\"team_id\"].values[0]\n",
    "            ][\"team_name\"].values[0]\n",
    "            team_elo = ce_df.loc[team_name].elo\n",
    "            id_to_xt_impact[x] += player_values[x] * (\n",
    "                player_values[x]\n",
    "                / team_values[\n",
    "                    df_players[df_players[\"player_id\"] == x][\"team_id\"].values[0]\n",
    "                ]\n",
    "            )\n",
    "            id_to_xt_impact_elo[x][1].append(\n",
    "                (\n",
    "                    player_values[x]\n",
    "                    * (\n",
    "                        player_values[x]\n",
    "                        / team_values[\n",
    "                            df_players[df_players[\"player_id\"] == x][\"team_id\"].values[\n",
    "                                0\n",
    "                            ]\n",
    "                        ]\n",
    "                    )\n",
    "                )\n",
    "                * (team_elo / league_mean)\n",
    "            )\n",
    "            id_to_xt_impact_elo[x][0].append(\n",
    "                df_players[df_players[\"player_id\"] == x][\"minutes_played\"].values[0]\n",
    "            )\n",
    "            id_to_xt_impact_elo[x][2].append(\n",
    "                id_to_xt_impact_elo[x][1][-1] / id_to_xt_impact_elo[x][0][-1]\n",
    "            )"
   ]
  },
  {
   "cell_type": "code",
   "execution_count": null,
   "metadata": {},
   "outputs": [],
   "source": [
    "df_res = pd.DataFrame.from_dict(\n",
    "    {\n",
    "        \"ids\": [x for x in id_to_name.keys()],\n",
    "        \"names\": [id_to_name[x] for x in id_to_name.keys()],\n",
    "        \"impact\": [id_to_xt_impact[x] for x in id_to_name.keys()],\n",
    "        \"impact_elo\": [np.sum(id_to_xt_impact_elo[x][1]) for x in id_to_name.keys()],\n",
    "    }\n",
    ")"
   ]
  },
  {
   "cell_type": "code",
   "execution_count": null,
   "metadata": {},
   "outputs": [],
   "source": [
    "df_res.sort_values(\"impact\", ascending=False).head(20)"
   ]
  },
  {
   "cell_type": "code",
   "execution_count": null,
   "metadata": {},
   "outputs": [],
   "source": []
  }
 ],
 "metadata": {
  "kernelspec": {
   "display_name": "Python 3.10.4 ('packing-report')",
   "language": "python",
   "name": "python3"
  },
  "language_info": {
   "codemirror_mode": {
    "name": "ipython",
    "version": 3
   },
   "file_extension": ".py",
   "mimetype": "text/x-python",
   "name": "python",
   "nbconvert_exporter": "python",
   "pygments_lexer": "ipython3",
   "version": "3.10.4"
  },
  "orig_nbformat": 4,
  "vscode": {
   "interpreter": {
    "hash": "712082fa5832080cfbc451c8f4e95f25cd39c626d7d8aebf8310513402cfb031"
   }
  }
 },
 "nbformat": 4,
 "nbformat_minor": 2
}
