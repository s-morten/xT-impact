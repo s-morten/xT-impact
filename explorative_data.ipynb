{
 "cells": [
  {
   "cell_type": "code",
   "execution_count": null,
   "metadata": {},
   "outputs": [],
   "source": [
    "import pandas as pd\n",
    "import numpy as np\n",
    "import matplotlib\n",
    "import matplotlib.pyplot as plt\n",
    "import seaborn as sb\n",
    "import itertools"
   ]
  },
  {
   "cell_type": "code",
   "execution_count": null,
   "metadata": {},
   "outputs": [],
   "source": [
    "train_data = pd.read_csv(\n",
    "    \"data_acquisition/data_0.3/data_game_values_train.csv\", sep=\";\"\n",
    ")"
   ]
  },
  {
   "cell_type": "code",
   "execution_count": null,
   "metadata": {},
   "outputs": [],
   "source": [
    "test_data = pd.read_csv(\n",
    "    \"data_acquisition/data_0.3/data_game_values_test_odds.csv\", sep=\";\"\n",
    ")"
   ]
  },
  {
   "cell_type": "code",
   "execution_count": null,
   "metadata": {},
   "outputs": [],
   "source": [
    "train_data.home_score.mean()"
   ]
  },
  {
   "cell_type": "code",
   "execution_count": null,
   "metadata": {},
   "outputs": [],
   "source": [
    "train_data.away_score.mean()"
   ]
  },
  {
   "cell_type": "code",
   "execution_count": null,
   "metadata": {},
   "outputs": [],
   "source": [
    "train_data[\"elo_diff_home\"] = train_data[\"elo_home\"] - train_data[\"elo_away\"]\n",
    "train_data[\"elo_diff_away\"] = train_data[\"elo_away\"] - train_data[\"elo_home\"]\n",
    "\n",
    "test_data[\"elo_diff_home\"] = test_data[\"elo_home\"] - test_data[\"elo_away\"]\n",
    "test_data[\"elo_diff_away\"] = test_data[\"elo_away\"] - test_data[\"elo_home\"]"
   ]
  },
  {
   "cell_type": "code",
   "execution_count": null,
   "metadata": {},
   "outputs": [],
   "source": [
    "import seaborn as sns\n",
    "\n",
    "boxplot_dict = {\n",
    "    \"ELO Diff Home\": train_data[\"elo_diff_home\"],\n",
    "    \"Home xG\": train_data[\"home_xG\"],\n",
    "    \"Form Home\": train_data[\"ha_form_home_for\"],\n",
    "}\n",
    "fig = plt.figure(figsize=(4, 5))\n",
    "bplot = sns.boxplot(\n",
    "    [\n",
    "        train_data[\"elo_diff_home\"],\n",
    "        train_data[\"home_xG\"],\n",
    "        train_data[\"ha_form_home_for\"],\n",
    "    ],\n",
    "    color=\"lightgreen\",\n",
    ")\n",
    "bplot.set_xticklabels(boxplot_dict.keys())"
   ]
  },
  {
   "cell_type": "code",
   "execution_count": null,
   "metadata": {},
   "outputs": [],
   "source": [
    "boxplot_dict = {\n",
    "    \"Home xG\": train_data[\"home_xG\"],\n",
    "    \"Form Home For\": train_data[\"ha_form_home_for\"],\n",
    "}\n",
    "fig = plt.figure(figsize=(4, 5))\n",
    "# ax = fig.subplots()\n",
    "bplot = sns.boxplot(\n",
    "    [train_data[\"home_xG\"], train_data[\"ha_form_home_for\"]], color=\"lightgreen\"\n",
    ")\n",
    "bplot.set_xticklabels(boxplot_dict.keys())"
   ]
  },
  {
   "cell_type": "code",
   "execution_count": null,
   "metadata": {},
   "outputs": [],
   "source": [
    "features = [\n",
    "    \"home_xG\",\n",
    "    \"away_xG\",\n",
    "    \"home_xg_against\",\n",
    "    \"away_xg_against\",\n",
    "    \"home_xT_all\",\n",
    "    \"away_xT_all\",\n",
    "    \"home_xt_all_against\",\n",
    "    \"away_xt_all_against\",\n",
    "    \"ha_form_home_for\",\n",
    "    \"ha_form_away_for\",\n",
    "    \"ha_form_home_against\",\n",
    "    \"ha_form_away_against\",\n",
    "    \"elo_diff_home\",\n",
    "    \"elo_diff_away\",\n",
    "]"
   ]
  },
  {
   "cell_type": "code",
   "execution_count": null,
   "metadata": {},
   "outputs": [],
   "source": [
    "for f in features:\n",
    "    category_mean = train_data[f].mean()\n",
    "    category_std = train_data[f].std()\n",
    "    train_data[f] = (train_data[f] - category_mean) / category_std\n",
    "    test_data[f] = (test_data[f] - category_mean) / category_std"
   ]
  },
  {
   "cell_type": "code",
   "execution_count": null,
   "metadata": {},
   "outputs": [],
   "source": [
    "train_data_removed = train_data[features + [\"game_id\", \"home_score\", \"away_score\"]]\n",
    "test_data_removed = test_data[\n",
    "    features\n",
    "    + [\n",
    "        \"game_id\",\n",
    "        \"home_score\",\n",
    "        \"away_score\",\n",
    "        \"bookie_home\",\n",
    "        \"bookie_draw\",\n",
    "        \"bookie_away\",\n",
    "        \"bookie_home_odd\",\n",
    "        \"bookie_draw_odd\",\n",
    "        \"bookie_away_odd\",\n",
    "    ]\n",
    "]"
   ]
  },
  {
   "cell_type": "code",
   "execution_count": null,
   "metadata": {},
   "outputs": [],
   "source": [
    "test_data_removed.describe()"
   ]
  },
  {
   "cell_type": "code",
   "execution_count": null,
   "metadata": {},
   "outputs": [],
   "source": [
    "his_h, _ = np.histogram(train_data_removed.home_score, [0, 1, 2, 3, 4, 5, 6, 7, 8, 9])\n",
    "his_a, _ = np.histogram(train_data_removed.away_score, [0, 1, 2, 3, 4, 5, 6, 7, 8, 9])\n",
    "home_mean = train_data_removed.home_score.mean()\n",
    "away_mean = train_data_removed.away_score.mean()\n",
    "fig, (ax1, ax2) = plt.subplots(1, 2)\n",
    "fig.set_size_inches(10, 5)\n",
    "# fig.suptitle(\"Independent Poisson Model\", fontsize=16)\n",
    "ax1.bar(np.arange(len(his_h)), his_h / np.sum(his_h), color=\"lightskyblue\")\n",
    "ax1.set_title(\"Home Observed\")\n",
    "ax1.set_xlabel(\"Number of Goals\")\n",
    "ax1.set_ylabel(\"Observed home goal count\")\n",
    "ax1.get_yaxis().set_major_formatter(\n",
    "    matplotlib.ticker.FuncFormatter(lambda x, p: format(int(x * 100), \",\") + \"%\")\n",
    ")\n",
    "ax1.set_ylim([0, 0.4])\n",
    "ax1.grid(axis=\"y\")\n",
    "ax1.vlines(x=home_mean, ymin=0, ymax=0.4, colors=\"r\")\n",
    "\n",
    "ax2.bar(np.arange(len(his_a)), his_a / np.sum(his_a), color=\"lightskyblue\")\n",
    "ax2.set_title(\"Away Observed\")\n",
    "ax2.set_xlabel(\"Number of Goals\")\n",
    "ax2.set_ylabel(\"Observed away goal count\")\n",
    "ax2.get_yaxis().set_major_formatter(\n",
    "    matplotlib.ticker.FuncFormatter(lambda x, p: format(int(x * 100), \",\") + \"%\")\n",
    ")\n",
    "ax2.set_ylim([0, 0.4])\n",
    "ax2.vlines(x=away_mean, ymin=0, ymax=0.4, colors=\"r\")\n",
    "ax2.grid(axis=\"y\")"
   ]
  },
  {
   "cell_type": "code",
   "execution_count": null,
   "metadata": {},
   "outputs": [],
   "source": [
    "train_data_removed[\"away_score\"].hist()"
   ]
  },
  {
   "cell_type": "code",
   "execution_count": null,
   "metadata": {},
   "outputs": [],
   "source": [
    "train_data_removed.describe()"
   ]
  },
  {
   "cell_type": "code",
   "execution_count": null,
   "metadata": {},
   "outputs": [],
   "source": [
    "boxplot_dict = {\n",
    "    \"Elo Diff Home\": train_data_removed[\"elo_diff_home\"],\n",
    "    \"Home xG\": train_data_removed[\"home_xG\"],\n",
    "    \"Form Home\": train_data_removed[\"ha_form_home_for\"],\n",
    "}\n",
    "bplot = sns.boxplot(\n",
    "    [\n",
    "        train_data_removed[\"elo_diff_home\"],\n",
    "        train_data_removed[\"home_xG\"],\n",
    "        train_data_removed[\"ha_form_home_for\"],\n",
    "    ],\n",
    "    color=\"lightgreen\",\n",
    ")\n",
    "bplot.set_xticklabels(boxplot_dict.keys())"
   ]
  },
  {
   "cell_type": "code",
   "execution_count": null,
   "metadata": {},
   "outputs": [],
   "source": [
    "# data_corr = all_data[[\"home_xG\",\"away_xG\",\"home_xg_against\",\"away_xg_against\",\"home_xT_all\",\"away_xT_all\",\"home_xt_all_against\",\"away_xt_all_against\",\"ha_form_home_for\",\"ha_form_away_for\",\"ha_form_home_against\",\"ha_form_away_against\",\"elo_diff_home\",\"elo_diff_away\"]]\n",
    "data_corr = train_data_removed[\n",
    "    [\n",
    "        \"home_xG\",\n",
    "        \"away_xG\",\n",
    "        \"home_xg_against\",\n",
    "        \"away_xg_against\",\n",
    "        \"home_xT_all\",\n",
    "        \"away_xT_all\",\n",
    "        \"home_xt_all_against\",\n",
    "        \"away_xt_all_against\",\n",
    "        \"ha_form_home_for\",\n",
    "        \"ha_form_away_for\",\n",
    "        \"ha_form_home_against\",\n",
    "        \"ha_form_away_against\",\n",
    "        \"elo_diff_home\",\n",
    "    ]\n",
    "]"
   ]
  },
  {
   "cell_type": "code",
   "execution_count": null,
   "metadata": {},
   "outputs": [],
   "source": [
    "import seaborn as sns"
   ]
  },
  {
   "cell_type": "code",
   "execution_count": null,
   "metadata": {},
   "outputs": [],
   "source": [
    "plt.figure(figsize=(16, 6))\n",
    "mask = np.triu(np.ones_like(data_corr.corr(), dtype=bool), k=1)\n",
    "heatmap = sns.heatmap(\n",
    "    data_corr.corr().abs(), mask=mask, vmin=0, vmax=1, annot=True, cmap=\"crest\"\n",
    ")\n",
    "heatmap.set_title(\"Correlation Heatmap\", fontdict={\"fontsize\": 18}, pad=16)\n",
    "# heatmap.set_xticks(range(len(data_corr.corr()))) # <--- set the ticks first\n",
    "heatmap.set_xticklabels(\n",
    "    [\n",
    "        \"Home xG\",\n",
    "        \"Away xG\",\n",
    "        \"Home $\\overline{xG}$\",\n",
    "        \"Away $\\overline{xG}$\",\n",
    "        \"Home xT\",\n",
    "        \"Away xT\",\n",
    "        \"Home $\\overline{xT}$\",\n",
    "        \"Away $\\overline{xT}$\",\n",
    "        \"Form Home\",\n",
    "        \"Form Away\",\n",
    "        \"$\\overline{Form Home}$\",\n",
    "        \"$\\overline{Form Away}$\",\n",
    "        \"ELO Diff\",\n",
    "    ]\n",
    ")\n",
    "# heatmap.set_xticks(range(len(data_corr.corr()))) # <--- set the ticks first\n",
    "heatmap.set_yticklabels(\n",
    "    [\n",
    "        \"Home xG\",\n",
    "        \"Away xG\",\n",
    "        \"Home $\\overline{xG}$\",\n",
    "        \"Away $\\overline{xG}$\",\n",
    "        \"Home xT\",\n",
    "        \"Away xT\",\n",
    "        \"Home $\\overline{xT}$\",\n",
    "        \"Away $\\overline{xT}$\",\n",
    "        \"Form Home\",\n",
    "        \"Form Away\",\n",
    "        \"$\\overline{Form Home}$\",\n",
    "        \"$\\overline{Form Away}$\",\n",
    "        \"ELO Diff\",\n",
    "    ]\n",
    ")"
   ]
  },
  {
   "cell_type": "code",
   "execution_count": null,
   "metadata": {},
   "outputs": [],
   "source": [
    "# training_standardized = all_data_removed[all_data_removed[\"game_id\"].isin(train_data[\"game_id\"])]\n",
    "# test_standardized = all_data_removed[all_data_removed[\"game_id\"].isin(test_data[\"game_id\"])]"
   ]
  },
  {
   "cell_type": "code",
   "execution_count": null,
   "metadata": {},
   "outputs": [],
   "source": [
    "# train_data_removed.to_csv(\"data_acquisition/data_0.3/training_standardized.csv\", sep=\";\", index=False)\n",
    "# test_data_removed.to_csv(\"data_acquisition/data_0.3/test_standardized.csv\", sep=\";\", index=False)"
   ]
  },
  {
   "cell_type": "code",
   "execution_count": null,
   "metadata": {},
   "outputs": [],
   "source": [
    "import math\n",
    "\n",
    "n = 16\n",
    "fact = 0\n",
    "for x in range(7):\n",
    "    if x < 5:\n",
    "        continue\n",
    "    m = x + 1\n",
    "    fact += math.factorial(n) / (math.factorial(m) * math.factorial(n - m))\n",
    "\n",
    "print(fact)"
   ]
  },
  {
   "cell_type": "code",
   "execution_count": null,
   "metadata": {},
   "outputs": [],
   "source": [
    "explore_data[\"home_xG_norm2\"] = explore_data[\"home_xG\"] / explore_data[\"home_xG\"].std()\n",
    "import matplotlib.pyplot as plt\n",
    "import numpy as np\n",
    "import scipy.stats as stats\n",
    "import math\n",
    "\n",
    "fig = plt.figure()\n",
    "ax = fig.add_subplot(1, 1, 1)\n",
    "hist, bins = np.histogram(explore_data[\"home_xG_norm2\"], bins=10)\n",
    "hist = hist / explore_data[\"home_xG_norm2\"].count()\n",
    "width = 0.95 * (bins[1] - bins[0])\n",
    "center = (bins[:-1] + bins[1:]) / 2\n",
    "plt.bar(center, hist, align=\"center\", width=width)\n",
    "mu = 0\n",
    "variance = 1\n",
    "sigma = math.sqrt(variance)\n",
    "x = np.linspace(mu - 3 * sigma, mu + 3 * sigma, 100)\n",
    "plt.plot(x, stats.norm.pdf(x, mu, sigma), color=\"black\")\n",
    "\n",
    "fig.show()"
   ]
  },
  {
   "cell_type": "code",
   "execution_count": null,
   "metadata": {},
   "outputs": [],
   "source": [
    "import itertools\n",
    "\n",
    "# how to round\n",
    "error1 = np.arange(0, 3, 0.1)\n",
    "error2 = np.arange(0, 3, 0.1)\n",
    "\n",
    "errors = []\n",
    "for x, y in itertools.product(error1, error2):\n",
    "    errors.append(x - y)\n",
    "\n",
    "errors = np.array(np.round(errors, 1))"
   ]
  },
  {
   "cell_type": "code",
   "execution_count": null,
   "metadata": {},
   "outputs": [],
   "source": [
    "np.unique(errors)"
   ]
  },
  {
   "cell_type": "code",
   "execution_count": null,
   "metadata": {},
   "outputs": [],
   "source": [
    "int_rounding = []\n",
    "for x, y in itertools.product(error1, error2):\n",
    "    int_rounding.append(int(x - y))"
   ]
  },
  {
   "cell_type": "code",
   "execution_count": null,
   "metadata": {},
   "outputs": [],
   "source": [
    "bankers_rounding = []\n",
    "for x, y in itertools.product(error1, error2):\n",
    "    bankers_rounding.append(np.rint(x - y))"
   ]
  },
  {
   "cell_type": "code",
   "execution_count": null,
   "metadata": {},
   "outputs": [],
   "source": [
    "my_rounding = []\n",
    "for x, y in itertools.product(error1, error2):\n",
    "    if ((x - y) >= 0.5) or ((y - x) >= 0.5):\n",
    "        x = int(x)\n",
    "        y = int(y)\n",
    "    else:\n",
    "        c = max(x, y)\n",
    "        x = int(c)\n",
    "        y = int(c)\n",
    "    my_rounding.append(x - y)"
   ]
  },
  {
   "cell_type": "code",
   "execution_count": null,
   "metadata": {},
   "outputs": [],
   "source": [
    "fig = plt.figure(figsize=(20, 5))\n",
    "ax = fig.subplots(1, 3)\n",
    "ax[0].scatter(errors, int_rounding)\n",
    "ax[0].grid()\n",
    "ax[1].scatter(errors, bankers_rounding)\n",
    "ax[1].grid()\n",
    "ax[2].scatter(errors, my_rounding)\n",
    "ax[2].grid()"
   ]
  },
  {
   "cell_type": "code",
   "execution_count": null,
   "metadata": {},
   "outputs": [],
   "source": [
    "x = np.linspace(-10, 10, 1000)\n",
    "y = np.maximum(0, x)\n",
    "\n",
    "plt.figure(figsize=(10, 5))\n",
    "plt.plot(x, y)\n",
    "plt.legend([\"Relu\"])\n",
    "plt.xlim(-10, 10)\n",
    "plt.ylim(-10, 10)\n",
    "plt.axhline(0, color=\"black\", linewidth=0.5)\n",
    "plt.axvline(0, color=\"black\", linewidth=0.5)\n",
    "# plt.grid()\n",
    "plt.show()"
   ]
  }
 ],
 "metadata": {
  "kernelspec": {
   "display_name": "packing-report",
   "language": "python",
   "name": "python3"
  },
  "language_info": {
   "codemirror_mode": {
    "name": "ipython",
    "version": 3
   },
   "file_extension": ".py",
   "mimetype": "text/x-python",
   "name": "python",
   "nbconvert_exporter": "python",
   "pygments_lexer": "ipython3",
   "version": "3.10.4"
  },
  "orig_nbformat": 4
 },
 "nbformat": 4,
 "nbformat_minor": 2
}
