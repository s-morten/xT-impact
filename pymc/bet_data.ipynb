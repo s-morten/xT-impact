{
 "cells": [
  {
   "cell_type": "code",
   "execution_count": null,
   "metadata": {},
   "outputs": [],
   "source": [
    "import pandas as pd\n",
    "import numpy as np"
   ]
  },
  {
   "cell_type": "code",
   "execution_count": null,
   "metadata": {},
   "outputs": [],
   "source": [
    "data = pd.read_csv(\"data_acquisition/data_0.3/data_game_values_test.csv\", sep=\";\")"
   ]
  },
  {
   "cell_type": "code",
   "execution_count": null,
   "metadata": {},
   "outputs": [],
   "source": [
    "data"
   ]
  },
  {
   "cell_type": "code",
   "execution_count": null,
   "metadata": {},
   "outputs": [],
   "source": [
    "data.shape[0]"
   ]
  },
  {
   "cell_type": "code",
   "execution_count": null,
   "metadata": {},
   "outputs": [],
   "source": [
    "real_scores = []\n",
    "predictions = []\n",
    "for _, x in data.iterrows():\n",
    "    real_score = (\n",
    "        0 if x.home_score > x.away_score else 1 if x.home_score == x.away_score else 2\n",
    "    )\n",
    "    real_scores.append(real_score)\n",
    "    pred = np.argmax([x.bookie_home, x.bookie_draw, x.bookie_away])\n",
    "    predictions.append(pred)\n",
    "\n",
    "res = pd.DataFrame({\"real\": real_scores, \"pred\": predictions})"
   ]
  },
  {
   "cell_type": "code",
   "execution_count": null,
   "metadata": {},
   "outputs": [],
   "source": [
    "print(\n",
    "    f\"Predicted Home: {res.loc[res['pred'] == 0].shape[0]}, ({res.loc[res['pred'] == 0].shape[0] / data.shape[0]})\"\n",
    ")\n",
    "print(\n",
    "    f\"Predicted Draw: {res.loc[res['pred'] == 1].shape[0]}, ({res.loc[res['pred'] == 1].shape[0] / data.shape[0]})\"\n",
    ")\n",
    "print(\n",
    "    f\"Predicted Away: {res.loc[res['pred'] == 2].shape[0]}, ({res.loc[res['pred'] == 2].shape[0] / data.shape[0]})\"\n",
    ")"
   ]
  },
  {
   "cell_type": "code",
   "execution_count": null,
   "metadata": {},
   "outputs": [],
   "source": [
    "right, wrong, home_right, draw_right, away_right = 0, 0, 0, 0, 0\n",
    "home_pred = {\"act_away\": 0, \"act_draw\": 0}\n",
    "draw_pred = {\"act_away\": 0, \"act_home\": 0}\n",
    "away_pred = {\"act_home\": 0, \"act_draw\": 0}\n",
    "for x in range(res.shape[0]):\n",
    "    if res.iloc[x][\"real\"] != res.iloc[x][\"pred\"]:\n",
    "        if res.iloc[x][\"pred\"] == 0:\n",
    "            if res.iloc[x][\"real\"] == 1:\n",
    "                home_pred[\"act_draw\"] += 1\n",
    "            else:\n",
    "                home_pred[\"act_away\"] += 1\n",
    "        elif res.iloc[x][\"pred\"] == 1:\n",
    "            if res.iloc[x][\"real\"] == 0:\n",
    "                draw_pred[\"act_home\"] += 1\n",
    "            else:\n",
    "                draw_pred[\"act_away\"] += 1\n",
    "        else:\n",
    "            if res.iloc[x][\"real\"] == 0:\n",
    "                away_pred[\"act_home\"] += 1\n",
    "            else:\n",
    "                away_pred[\"act_draw\"] += 1\n",
    "        wrong += 1\n",
    "    else:\n",
    "        if res.iloc[x][\"real\"] == 0:\n",
    "            home_right += 1\n",
    "        elif res.iloc[x][\"real\"] == 1:\n",
    "            draw_right += 1\n",
    "        else:\n",
    "            away_right += 1\n",
    "        right += 1\n",
    "\n",
    "home_wrong = home_pred[\"act_away\"] + home_pred[\"act_draw\"]\n",
    "draw_wrong = draw_pred[\"act_away\"] + draw_pred[\"act_home\"]\n",
    "away_wrong = away_pred[\"act_home\"] + away_pred[\"act_draw\"]\n",
    "print(\"Prediction:\")\n",
    "print(\n",
    "    f\"Anzahl Korrekt: {right} ({round(right / res.shape[0] * 100,2)}%), Anzahl Falsch: {wrong} ({round(wrong / res.shape[0] * 100, 2)}%)\"\n",
    ")\n",
    "print(\n",
    "    \"---------------------------------------------------------------------------------\"\n",
    ")\n",
    "print(\n",
    "    f\"Anzahl Home Korrekt: {home_right} ({round(home_right / res[res['real'] == 0].shape[0] * 100, 2)}%), Anzahl Home Falsch: {home_wrong}\"\n",
    ")\n",
    "print(f\"Home Pred. aber Draw --> {home_pred['act_draw']}\")\n",
    "print(f\"Home Pred. aber Away --> {home_pred['act_away']}\")\n",
    "print(\n",
    "    f\"Anzahl Draw Korrekt: {draw_right} ({round(draw_right / res[res['real'] == 1].shape[0] * 100, 2)}%), Anzahl Draw Falsch: {draw_wrong}\"\n",
    ")\n",
    "print(f\"Draw Pred. aber Home --> {draw_pred['act_home']}\")\n",
    "print(f\"Draw Pred. aber Away --> {draw_pred['act_away']}\")\n",
    "print(\n",
    "    f\"Anzahl Away Korrekt: {away_right} ({round(away_right / res[res['real'] == 2].shape[0] * 100, 2)}%), Anzahl Away Falsch: {away_wrong}\"\n",
    ")\n",
    "print(f\"Away Pred. aber Home --> {away_pred['act_home']}\")\n",
    "print(f\"Away Pred. aber Draw --> {away_pred['act_draw']}\")"
   ]
  },
  {
   "cell_type": "code",
   "execution_count": null,
   "metadata": {},
   "outputs": [],
   "source": []
  }
 ],
 "metadata": {
  "kernelspec": {
   "display_name": "packing-report",
   "language": "python",
   "name": "python3"
  },
  "language_info": {
   "codemirror_mode": {
    "name": "ipython",
    "version": 3
   },
   "file_extension": ".py",
   "mimetype": "text/x-python",
   "name": "python",
   "nbconvert_exporter": "python",
   "pygments_lexer": "ipython3",
   "version": "3.10.4"
  },
  "orig_nbformat": 4,
  "vscode": {
   "interpreter": {
    "hash": "712082fa5832080cfbc451c8f4e95f25cd39c626d7d8aebf8310513402cfb031"
   }
  }
 },
 "nbformat": 4,
 "nbformat_minor": 2
}
