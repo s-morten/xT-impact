{
 "cells": [
  {
   "cell_type": "code",
   "execution_count": null,
   "metadata": {},
   "outputs": [],
   "source": [
    "from player import Player"
   ]
  },
  {
   "cell_type": "code",
   "execution_count": null,
   "metadata": {},
   "outputs": [],
   "source": [
    "import socceraction.spadl as spadl\n",
    "import socceraction.xthreat as xthreat\n",
    "import soccerdata as sd\n",
    "from pathlib import PosixPath\n",
    "import pandas as pd\n",
    "from tqdm import tqdm\n",
    "from datetime import datetime\n",
    "import numpy as np\n",
    "import matplotlib.pyplot as plt\n",
    "\n",
    "import socceraction.spadl.config as spadlconfig\n",
    "from socceraction.spadl.schema import SPADLSchema\n",
    "from pandera.typing import DataFrame, Series\n",
    "import numpy.typing as npt\n",
    "from sklearn.exceptions import NotFittedError\n",
    "from typing import Callable, List, Optional, Tuple\n",
    "import os\n",
    "from datetime import date, timedelta\n",
    "from ipywidgets import interact"
   ]
  },
  {
   "cell_type": "code",
   "execution_count": null,
   "metadata": {},
   "outputs": [],
   "source": [
    "def string_to_date(input):\n",
    "    input_parts = input.split('-')\n",
    "    return date(int(input_parts[0]), int(input_parts[1]), int(input_parts[2]))\t\n",
    "\n",
    "def get_time_list(start):\n",
    "    date_list = []\n",
    "    start_date = string_to_date(start)\n",
    "    end_date = date.today()\n",
    "    delta = timedelta(days=1)\n",
    "    while start_date <= end_date:\n",
    "        date_list.append(start_date.strftime(\"%Y-%m-%d\"))\n",
    "        start_date += delta\n",
    "    return date_list"
   ]
  },
  {
   "cell_type": "code",
   "execution_count": null,
   "metadata": {},
   "outputs": [],
   "source": [
    "def get_df():\n",
    "    return pd.read_csv(\"../data/data_0.3/player_db.csv\", sep=\";\")\n",
    "\n",
    "def draw_plot(id):\n",
    "    # id to id\n",
    "    df = get_df()\n",
    "    id = df[df[\"player_name\"] == id]['id'].values[0]\n",
    "    proto_player = Player().parse(open(f\"./../data/data_0.3/{str(id)}.pb\", \"rb\").read())\n",
    "    df_player = pd.DataFrame(proto_player.expected_game_impact)\n",
    "    df_player = df_player.sort_values(\"game_date\").reset_index(drop=True)\n",
    "    attack, attack2, shots = [], [], []\n",
    "    for idx, x in df_player.iterrows():\n",
    "        if idx < 4:\n",
    "            continue\n",
    "        attack.append(df_player[\"xg\"][idx-5:idx].mean())\n",
    "        attack2.append(df_player[\"xt_all\"][idx-5:idx].mean())\n",
    "        shots.append(df_player[\"xt_only_pos\"][idx-5:idx].mean())\n",
    "\n",
    "    plt.plot(np.arange(len(attack)), attack, '.g')\n",
    "    plt.plot(np.arange(len(attack2)), attack2, '.r')\n",
    "    plt.plot(np.arange(len(shots)), shots, '.y')\n",
    "df = get_df()\n",
    "interact(draw_plot, id=df['player_name'].sort_values())"
   ]
  },
  {
   "cell_type": "code",
   "execution_count": null,
   "metadata": {},
   "outputs": [],
   "source": [
    "proto_player = Player().parse(open(f\"./../data/data_0.2/{str(115509)}.pb\", \"rb\").read())\n",
    "df_ducksch = pd.DataFrame(proto_player.expected_game_impact)"
   ]
  },
  {
   "cell_type": "code",
   "execution_count": null,
   "metadata": {},
   "outputs": [],
   "source": [
    "df_ducksch = df_ducksch.sort_values(\"game_date\", ascending=True).reset_index(drop=True)"
   ]
  },
  {
   "cell_type": "code",
   "execution_count": null,
   "metadata": {},
   "outputs": [],
   "source": [
    "gdf = df_ducksch[-1:]\n",
    "prev_df = df_ducksch[-100000:-1]"
   ]
  },
  {
   "cell_type": "code",
   "execution_count": null,
   "metadata": {},
   "outputs": [],
   "source": [
    "previous_df = prev_df.loc[(prev_df[\"starter\"] == gdf[\"starter\"].values[0]) & (prev_df[\"home\"] == gdf[\"home\"].values[0])]"
   ]
  },
  {
   "cell_type": "code",
   "execution_count": null,
   "metadata": {},
   "outputs": [],
   "source": [
    "previous_df[[\"starter\", \"home\"]]"
   ]
  },
  {
   "cell_type": "code",
   "execution_count": null,
   "metadata": {},
   "outputs": [],
   "source": [
    "df_home = df_ducksch.loc[df_ducksch[\"home\"]]\n",
    "df_home.reset_index(drop=True, inplace=True)\n",
    "attack, attack2, shots = [], [], []\n",
    "for idx, x in df_home.iterrows():\n",
    "    if idx < 4:\n",
    "        continue\n",
    "    attack.append(df_home[\"xg\"][idx-5:idx].mean())\n",
    "    attack2.append(df_home[\"xt_all\"][idx-5:idx].mean())\n",
    "    shots.append(df_home[\"xt_only_pos\"][idx-5:idx].mean())\n",
    "\n",
    "plt.plot(np.arange(len(attack)), attack, '.g')\n",
    "plt.plot(np.arange(len(attack2)), attack2, '.r')\n",
    "plt.plot(np.arange(len(shots)), shots, '.y')"
   ]
  },
  {
   "cell_type": "code",
   "execution_count": null,
   "metadata": {},
   "outputs": [],
   "source": [
    "df_away = df_ducksch.loc[df_ducksch[\"home\"] == False]\n",
    "df_away.reset_index(drop=True, inplace=True)\n",
    "attack, attack2, shots = [], [], []\n",
    "for idx, x in df_away.iterrows():\n",
    "    if idx < 4:\n",
    "        continue\n",
    "    attack.append(df_away[\"xg\"][idx-5:idx].mean())\n",
    "    attack2.append(df_away[\"xt_all\"][idx-5:idx].mean())\n",
    "    shots.append(df_away[\"xt_only_pos\"][idx-5:idx].mean())\n",
    "\n",
    "plt.plot(np.arange(len(attack)), attack, '.g')\n",
    "plt.plot(np.arange(len(attack2)), attack2, '.r')\n",
    "plt.plot(np.arange(len(shots)), shots, '.y')"
   ]
  },
  {
   "cell_type": "code",
   "execution_count": null,
   "metadata": {},
   "outputs": [],
   "source": [
    "# gi"
   ]
  },
  {
   "cell_type": "code",
   "execution_count": null,
   "metadata": {},
   "outputs": [],
   "source": [
    "gi = []\n",
    "for idx, x in df_ducksch.iterrows():\n",
    "    if idx < 4:\n",
    "        continue\n",
    "    gi.append(df_ducksch[\"gi\"][idx-5:idx].mean())\n",
    "plt.plot(gi, \".r\")"
   ]
  },
  {
   "cell_type": "code",
   "execution_count": null,
   "metadata": {},
   "outputs": [],
   "source": [
    "gi = []\n",
    "for idx, x in df_home.iterrows():\n",
    "    if idx < 4:\n",
    "        continue\n",
    "    gi.append(df_home[\"gi\"][idx-5:idx].mean())\n",
    "plt.plot(gi, \".r\")"
   ]
  },
  {
   "cell_type": "code",
   "execution_count": null,
   "metadata": {},
   "outputs": [],
   "source": [
    "gi = []\n",
    "for idx, x in df_away.iterrows():\n",
    "    if idx < 4:\n",
    "        continue\n",
    "    gi.append(df_away[\"gi\"][idx-5:idx].mean())\n",
    "plt.plot(gi, \".r\")"
   ]
  },
  {
   "cell_type": "code",
   "execution_count": null,
   "metadata": {},
   "outputs": [],
   "source": []
  }
 ],
 "metadata": {
  "kernelspec": {
   "display_name": "Python 3.10.4 ('packing-report')",
   "language": "python",
   "name": "python3"
  },
  "language_info": {
   "codemirror_mode": {
    "name": "ipython",
    "version": 3
   },
   "file_extension": ".py",
   "mimetype": "text/x-python",
   "name": "python",
   "nbconvert_exporter": "python",
   "pygments_lexer": "ipython3",
   "version": "3.10.4 (main, Mar 31 2022, 08:41:55) [GCC 7.5.0]"
  },
  "orig_nbformat": 4,
  "vscode": {
   "interpreter": {
    "hash": "712082fa5832080cfbc451c8f4e95f25cd39c626d7d8aebf8310513402cfb031"
   }
  }
 },
 "nbformat": 4,
 "nbformat_minor": 2
}
